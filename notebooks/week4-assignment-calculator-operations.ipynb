{
 "cells": [
  {
   "cell_type": "markdown",
   "id": "009fef64",
   "metadata": {},
   "source": [
    "<h1 align=\"center\">Python as a Calculator</h1>"
   ]
  },
  {
   "cell_type": "markdown",
   "id": "8f379f4f",
   "metadata": {},
   "source": [
    "Carry  out the following basic arithmetic operations.\n",
    "\n",
    "1. $2+2$\n",
    "2. $3-1$\n",
    "3. $3\\times 5$\n",
    "4. $20 \\div 5$\n",
    "5. $3^5$\n",
    "6. $5 \\mod 2$\n",
    "7. $\\dfrac{2^3+1}{4}$\n",
    "8. $(-5)^2-2\\times(-9)+6$\n",
    "9. $3\\times 10 + 8 - 4^2$\n",
    "10. $5^2-[(32-5)-3]^2$\n",
    "11. $\\frac 79 + ((\\frac 75 \\times \\frac  58)\\div  \\frac 98)$\n",
    "12. $7+12 \\mod 5$\n",
    "13. $(7+12)\\mod 5$\n",
    "14. $\\dfrac{11\\times 2 - 7 + 12 \\div 4}{35-9\\div 3 \\times 7 + 4}$\n",
    "\n",
    "Remember that to have python evaluate a cell use `Control+Enter` or `Alt+Enter`.  Using `Control+Enter` will just evaluate the cell while `Alt+Enter` will evaluate the cell and give you another new cell below it.  Evaluate each problem in it's own cell."
   ]
  },
  {
   "cell_type": "code",
   "execution_count": null,
   "id": "6eb40155",
   "metadata": {},
   "outputs": [],
   "source": []
  },
  {
   "cell_type": "markdown",
   "id": "20e15944",
   "metadata": {},
   "source": [
    "<h1 align=\"center\">Formulas and Variables</h1>"
   ]
  },
  {
   "cell_type": "markdown",
   "id": "5931725d",
   "metadata": {},
   "source": [
    "The formula for converting Fahrenheit temperature to Celsius is given by the formula:"
   ]
  },
  {
   "cell_type": "markdown",
   "id": "abed6285",
   "metadata": {},
   "source": [
    "$$T_C = \\dfrac 59(T_F - 32)$$"
   ]
  },
  {
   "cell_type": "markdown",
   "id": "5df9721c",
   "metadata": {},
   "source": [
    "where $T_C$ is the teperature in Celsius and $T_F$ is the temperature in Fahrenheit.\n",
    "\n",
    "Create a varaible `temp_fahrenheit` and assign it a value of $82.0$.  Then in the next cell enter the formula above with the variable name `temp_celsius` for the Celsius temperature.  "
   ]
  },
  {
   "cell_type": "code",
   "execution_count": null,
   "id": "de3531d1",
   "metadata": {},
   "outputs": [],
   "source": []
  },
  {
   "cell_type": "code",
   "execution_count": null,
   "id": "70efbca4",
   "metadata": {},
   "outputs": [],
   "source": []
  },
  {
   "cell_type": "markdown",
   "id": "a11d8e0d",
   "metadata": {},
   "source": [
    "In the following cell type the name of your Celsius variable, `temp_celsius`, and evaluate it using `Control+Enter` so the cell will print the value for that variable. If you entered it correctly then you should get a value of about 27.78."
   ]
  },
  {
   "cell_type": "code",
   "execution_count": null,
   "id": "5df4892e",
   "metadata": {},
   "outputs": [],
   "source": []
  },
  {
   "cell_type": "markdown",
   "id": "c83781cb",
   "metadata": {},
   "source": [
    "Go back up and change the value of your Fahrenheit variable, `temp_fahrenheit`, to a value of 212.0 then re-evaluate your formula cell and the cell which prints your Celsius temperature.  You should get a value of about 100.0."
   ]
  },
  {
   "cell_type": "markdown",
   "id": "07128a3b",
   "metadata": {},
   "source": [
    "We can evalute multiple commands in the same cell by putting each command on its own line.\n",
    "```\n",
    "x=2\n",
    "y=3\n",
    "z=x+y\n",
    "```\n",
    "Try entering the above in the values for `x`, `y` and `z` above in the same cell and have python evaluate it."
   ]
  },
  {
   "cell_type": "markdown",
   "id": "b78e48f8",
   "metadata": {},
   "source": []
  },
  {
   "cell_type": "markdown",
   "id": "df9fe9aa",
   "metadata": {},
   "source": [
    "Now in the following cell have python give the value for `z` by simply putting in the variable name and pressing `Control+Enter`.  Do you get the value of 5 as you would expect?"
   ]
  },
  {
   "cell_type": "code",
   "execution_count": null,
   "id": "60c98a5a",
   "metadata": {},
   "outputs": [],
   "source": []
  },
  {
   "cell_type": "markdown",
   "id": "048a6980",
   "metadata": {},
   "source": [
    "## Math functions\n",
    "\n",
    "Python provides functions that compute all the usual mathematical functions, like `sin` and `cos`, `exp` and `log` and `sqrt`.\n",
    "However, they are not part of Python itself; they are in a **library**, which is a collection of functions that supplement the Python language.\n",
    "\n",
    "Actually, there are several libraries that provide math functions; the one we'll use is called NumPy, which stands for \"Numerical Python\", and is pronounced \"num pie\".\n",
    "Before you can use a library, you have to **import** it.  Here's how we import NumPy:  "
   ]
  },
  {
   "cell_type": "code",
   "execution_count": null,
   "id": "49b936fe",
   "metadata": {},
   "outputs": [],
   "source": [
    "import numpy"
   ]
  },
  {
   "cell_type": "markdown",
   "id": "0e9ee946",
   "metadata": {},
   "source": [
    "We would then evaluate $\\sqrt{4}$ using the command."
   ]
  },
  {
   "cell_type": "code",
   "execution_count": null,
   "id": "10f2044d",
   "metadata": {},
   "outputs": [],
   "source": [
    "numpy.sqrt(4)"
   ]
  },
  {
   "cell_type": "markdown",
   "id": "fb04c2ad",
   "metadata": {},
   "source": [
    "or"
   ]
  },
  {
   "cell_type": "code",
   "execution_count": null,
   "id": "455b4fc0",
   "metadata": {},
   "outputs": [],
   "source": [
    "numpy.sqrt(3102044416)"
   ]
  },
  {
   "cell_type": "markdown",
   "id": "c6d51e4e",
   "metadata": {},
   "source": [
    "What if we try a negative number?"
   ]
  },
  {
   "cell_type": "code",
   "execution_count": null,
   "id": "85369afe",
   "metadata": {},
   "outputs": [],
   "source": [
    "numpy.sqrt(-16)"
   ]
  },
  {
   "cell_type": "markdown",
   "id": "56da5979",
   "metadata": {},
   "source": [
    "Recall the Quadratic Formula for finding the solutions to"
   ]
  },
  {
   "cell_type": "markdown",
   "id": "a058fcbc",
   "metadata": {},
   "source": [
    "$$ax^2+bx+c=0.$$"
   ]
  },
  {
   "cell_type": "markdown",
   "id": "c6da6427",
   "metadata": {},
   "source": [
    "where the solutions are"
   ]
  },
  {
   "cell_type": "markdown",
   "id": "00e489d9",
   "metadata": {},
   "source": [
    "$$x = \\dfrac{-b + \\sqrt{b^2-4ac}}{2a}$$"
   ]
  },
  {
   "cell_type": "markdown",
   "id": "0edc7e8c",
   "metadata": {},
   "source": [
    "and"
   ]
  },
  {
   "cell_type": "markdown",
   "id": "2aef043e",
   "metadata": {},
   "source": [
    "$$x = \\dfrac{-b-\\sqrt{b^2-4ac}}{2a}$$"
   ]
  },
  {
   "cell_type": "markdown",
   "id": "217e08c0",
   "metadata": {},
   "source": [
    "Find the solutions to the following quadratics?"
   ]
  },
  {
   "cell_type": "markdown",
   "id": "7158b565",
   "metadata": {},
   "source": [
    "1. $x^2+5x+6$\n",
    "2. $x^2+6x-391$\n",
    "3. $x^2-57x+540$\n",
    "4. $x^2-46x+529$"
   ]
  },
  {
   "cell_type": "markdown",
   "id": "825e2bb4",
   "metadata": {},
   "source": [
    "Hint:  Can you use formulas above and variables so that you only need to write the formulas for evaluation one time?"
   ]
  },
  {
   "cell_type": "code",
   "execution_count": null,
   "id": "23bc153e",
   "metadata": {},
   "outputs": [],
   "source": []
  }
 ],
 "metadata": {
  "kernelspec": {
   "display_name": "Python 3 (ipykernel)",
   "language": "python",
   "name": "python3"
  },
  "language_info": {
   "codemirror_mode": {
    "name": "ipython",
    "version": 3
   },
   "file_extension": ".py",
   "mimetype": "text/x-python",
   "name": "python",
   "nbconvert_exporter": "python",
   "pygments_lexer": "ipython3",
   "version": "3.9.5"
  }
 },
 "nbformat": 4,
 "nbformat_minor": 5
}
